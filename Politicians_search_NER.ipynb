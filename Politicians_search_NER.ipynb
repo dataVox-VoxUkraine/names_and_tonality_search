{
 "cells": [
  {
   "cell_type": "markdown",
   "metadata": {},
   "source": [
    "### Пошук імен політиків серед сутностей, що раніше були знайдені NER-моделлю"
   ]
  },
  {
   "cell_type": "markdown",
   "metadata": {},
   "source": [
    "#### Визначення сутностей у розбитих на речення новинах у репозиторії з експертами у ноутбуці 1_Names_and_Keywords_search.ipynb"
   ]
  },
  {
   "cell_type": "code",
   "execution_count": 1,
   "metadata": {},
   "outputs": [],
   "source": [
    "import pandas as pd\n",
    "import re"
   ]
  },
  {
   "cell_type": "code",
   "execution_count": 2,
   "metadata": {},
   "outputs": [
    {
     "data": {
      "text/plain": [
       "Index(['link', 'language', 'all_ent_str', 'name_and_kw', 'kw_and_ent',\n",
       "       'names_and_kw_str', 'names_str', 'names_sets_str',\n",
       "       'one_name_per_set_str', 'string_names_sets_str', 'filt_kw_names_str',\n",
       "       'checked_with_conllu', 'checked_names_str', 'kw_names_unique_str',\n",
       "       'found', 'found_names_str', 'dict_str', 'all_found_names_str',\n",
       "       'all_dict_str'],\n",
       "      dtype='object')"
      ]
     },
     "execution_count": 2,
     "metadata": {},
     "output_type": "execute_result"
    }
   ],
   "source": [
    "entities_filepath = '../data/summer_entities.csv'\n",
    "entities = pd.read_csv(entities_filepath, index_col=[0])\n",
    "entities.columns"
   ]
  },
  {
   "cell_type": "code",
   "execution_count": 3,
   "metadata": {},
   "outputs": [
    {
     "name": "stderr",
     "output_type": "stream",
     "text": [
      "/Users/oksana/Dev/TextClassification/venv/lib/python3.7/site-packages/IPython/core/interactiveshell.py:3146: DtypeWarning: Columns (14) have mixed types.Specify dtype option on import or set low_memory=False.\n",
      "  interactivity=interactivity, compiler=compiler, result=result)\n"
     ]
    },
    {
     "data": {
      "text/plain": [
       "Index(['title', 'text', 'subtitle', 'link', 'domain', 'datetime', 'views',\n",
       "       'created_at', 'category', 'language', 'pub_type', 'author', 'tags',\n",
       "       'source', 'author_title', 'domain_alias', 'mycategory',\n",
       "       'found_names_str', 'author_gender', 'found_expert_names_str',\n",
       "       'found_not_expert_names_str'],\n",
       "      dtype='object')"
      ]
     },
     "execution_count": 3,
     "metadata": {},
     "output_type": "execute_result"
    }
   ],
   "source": [
    "news_filepath = '../data/summer.csv'\n",
    "news = pd.read_csv(news_filepath, index_col=[0])\n",
    "news.columns"
   ]
  },
  {
   "cell_type": "markdown",
   "metadata": {},
   "source": [
    "#### Сутності вже були знайдені і збережені у вигляді рядків у стовпчику all_ent_str"
   ]
  },
  {
   "cell_type": "code",
   "execution_count": 4,
   "metadata": {},
   "outputs": [],
   "source": [
    "news['all_ent_str'] = entities['all_ent_str']\n",
    "del entities"
   ]
  },
  {
   "cell_type": "markdown",
   "metadata": {},
   "source": [
    "**Сутності складаються з таких частин:**\n",
    " - token_range: (7, 10)\n",
    " - type: LOC\n",
    " - text: окупованому Росією Криму\n",
    " - score: 0.54\n",
    " \n",
    "**Частини розділені між собою через <§§>, сутності - через <;;>, а речення - через <@@>**"
   ]
  },
  {
   "cell_type": "code",
   "execution_count": 32,
   "metadata": {},
   "outputs": [
    {
     "data": {
      "text/plain": [
       "'(7, 10)<§§>LOC<§§>окупованому Росією Криму<§§>0.54<@@>(1, 2)<§§>LOC<§§>Страсбурзі<§§>0.79<;;>(8, 12)<§§>ORG<§§>Парламентська асамблея Ради Європи<§§>0.31<@@><@@><@@><@@><@@><@@>(9, 11)<§§>PERS<§§>Марією Мезенцевою<§§>0.99<;;>(14, 15)<§§>LOC<§§>Страсбурга<§§>0.99<@@>(1, 2)<§§>PERS<§§>Гончаренка<§§>0.87<;;>(5, 6)<§§>ORG<§§>ПАРЄ<§§>0.47<@@><@@>(4, 5)<§§>LOC<§§>Ісландії<§§>0.52<;;>(5, 7)<§§>PERS<§§>Сунна Торхілдур<§§>0.33<@@>(10, 11)<§§>LOC<§§>Криму<§§>0.97<@@>(3, 4)<§§>LOC<§§>Росію<§§>0.46<@@>(3, 4)<§§>LOC<§§>Криму<§§>0.77<@@><@@>(11, 13)<§§>ORG<§§>телеканалу ATR<§§>0.68<@@><@@>(2, 4)<§§>PERS<§§>Мустафі Джемілєву<§§>0.83<;;>(5, 7)<§§>PERS<§§>Рефату Чубарову<§§>0.61<;;>(9, 10)<§§>LOC<§§>Крим<§§>1.06<@@><@@>(0, 1)<§§>LOC<§§>Росія<§§>0.76<@@><@@><@@>(7, 8)<§§>LOC<§§>Страсбурзі<§§>0.89<@@><@@>(4, 5)<§§>LOC<§§>Донбасі<§§>0.84<@@>(9, 10)<§§>LOC<§§>Білорусі<§§>0.75<@@><@@><@@><@@>(4, 6)<§§>PERS<§§>Олексія Навального<§§>0.79<@@><@@>(0, 4)<§§>ORG<§§>Парламентська асамблея Ради Європи<§§>0.33<;;>(17, 19)<§§>LOC<§§>Ради Європи<§§>0.64<@@><@@>(7, 9)<§§>LOC<§§>Ради Європи<§§>0.65'"
      ]
     },
     "execution_count": 32,
     "metadata": {},
     "output_type": "execute_result"
    }
   ],
   "source": [
    "news.all_ent_str.iloc[0]"
   ]
  },
  {
   "cell_type": "code",
   "execution_count": 6,
   "metadata": {},
   "outputs": [],
   "source": [
    "ukr_politician_dict_path = 'dicts/politicians_ukr.csv'\n",
    "ru_politician_dict_path = 'dicts/politicians_ru.csv'\n",
    "\n",
    "ukr_names_filepath = 'dicts/names_ukr.txt'\n",
    "ru_names_filepath = 'dicts/names_ru.txt'\n",
    "\n",
    "politicians_dict_ukr = pd.read_csv(ukr_politician_dict_path, sep=';')\n",
    "politicians_dict_ru = pd.read_csv(ru_politician_dict_path, sep=';')"
   ]
  },
  {
   "cell_type": "code",
   "execution_count": 7,
   "metadata": {},
   "outputs": [
    {
     "data": {
      "text/plain": [
       "67"
      ]
     },
     "execution_count": 7,
     "metadata": {},
     "output_type": "execute_result"
    }
   ],
   "source": [
    "len(politicians_dict_ru.surname.values)"
   ]
  },
  {
   "cell_type": "markdown",
   "metadata": {},
   "source": [
    "#### Додаємо різні форми імен для пошуку серед сутностей:\n",
    " - ім'я+прізвище\n",
    " - ім'я+по-батькові\n",
    " - прізвище"
   ]
  },
  {
   "cell_type": "code",
   "execution_count": 33,
   "metadata": {},
   "outputs": [],
   "source": [
    "def form_fullname_pattern(politician):\n",
    "    return rf\"({politician['name']} {politician['surname']})\""
   ]
  },
  {
   "cell_type": "code",
   "execution_count": 34,
   "metadata": {},
   "outputs": [],
   "source": [
    "def form_name_patronim_pattern(politician):\n",
    "#     return rf\"((?<!{politician['surname']} ){politician['name']} {politician['patronim']}(?! {politician['surname']}))\"\n",
    "    return rf\"({politician['name']} {politician['patronim']})\"\n",
    "    "
   ]
  },
  {
   "cell_type": "markdown",
   "metadata": {},
   "source": [
    " **Також додаємо форми неправильних імен, коли знайдено прізвище таке, як у політика, але ім'я перед ним невірне**\n",
    " \n",
    " Таким чином обробляємо випадки людей з однаковими прізвищами. Щоб такі імена як, Олена Зеленська, Олег Ляшко і Оксана Марченко не рахувалися як згадки Володимира Зеленського, Віктора Ляшка та Сергія Марченка відповідно."
   ]
  },
  {
   "cell_type": "code",
   "execution_count": 35,
   "metadata": {},
   "outputs": [],
   "source": [
    "def form_wrong_name_pattern(politician, ending, all_names):\n",
    "    wrong_names = [n for n in all_names if n != politician['shortname']] \n",
    "    wrong_names = '|'.join(wrong_names)\n",
    "    wrong_names_forms = rf\"(({wrong_names}){ending} {politician['surname']})\"\n",
    "    return wrong_names_forms"
   ]
  },
  {
   "cell_type": "code",
   "execution_count": 36,
   "metadata": {},
   "outputs": [],
   "source": [
    "ending_ukr = r\"[аийуяіеоюєїьмфцвскпнртгшлдщзбжх]{,3}\\b\"\n",
    "ending_ru = r\"[аийуыяеоюёьэмфцвскпнртгшлдщзбжх]{,3}\\b\"\n",
    "\n",
    "with open(ukr_names_filepath) as f:\n",
    "    all_names_ukr = [n.strip() for n in f.readlines()]\n",
    "\n",
    "with open(ru_names_filepath) as f:\n",
    "    all_names_ru = [n.strip() for n in f.readlines()]\n",
    "\n",
    "def add_endings(name_dict, ending, all_names):\n",
    "    name_forms_dict = name_dict[['surname','name','patronim']].applymap(lambda x: x+ending if pd.notnull(x) else None)\n",
    "    name_forms_dict['fullname'] = name_dict.fullname\n",
    "    name_forms_dict['shortname'] = name_dict['name']\n",
    "    name_forms_dict['name_forms'] = name_forms_dict.apply(form_fullname_pattern, axis=1)\n",
    "    name_forms_dict['wrong_names'] = name_forms_dict.apply(form_wrong_name_pattern, ending=ending, all_names=all_names,axis=1)\n",
    "    name_forms_dict['name_patronim'] = name_forms_dict.apply(form_name_patronim_pattern, axis=1)\n",
    "    return name_forms_dict\n",
    "\n",
    "    \n",
    "name_forms_ukr = add_endings(politicians_dict_ukr, ending_ukr, all_names_ukr)\n",
    "name_forms_ru = add_endings(politicians_dict_ru, ending_ru, all_names_ru)\n"
   ]
  },
  {
   "cell_type": "code",
   "execution_count": 37,
   "metadata": {},
   "outputs": [
    {
     "data": {
      "text/html": [
       "<div>\n",
       "<style scoped>\n",
       "    .dataframe tbody tr th:only-of-type {\n",
       "        vertical-align: middle;\n",
       "    }\n",
       "\n",
       "    .dataframe tbody tr th {\n",
       "        vertical-align: top;\n",
       "    }\n",
       "\n",
       "    .dataframe thead th {\n",
       "        text-align: right;\n",
       "    }\n",
       "</style>\n",
       "<table border=\"1\" class=\"dataframe\">\n",
       "  <thead>\n",
       "    <tr style=\"text-align: right;\">\n",
       "      <th></th>\n",
       "      <th>surname</th>\n",
       "      <th>name</th>\n",
       "      <th>patronim</th>\n",
       "      <th>fullname</th>\n",
       "      <th>shortname</th>\n",
       "      <th>name_forms</th>\n",
       "      <th>wrong_names</th>\n",
       "      <th>name_patronim</th>\n",
       "    </tr>\n",
       "  </thead>\n",
       "  <tbody>\n",
       "    <tr>\n",
       "      <th>0</th>\n",
       "      <td>Зеленськ[аийуяіеоюєїьмфцвскпнртгшлдщзбжх]{,3}\\b</td>\n",
       "      <td>Володимир[аийуяіеоюєїьмфцвскпнртгшлдщзбжх]{,3}\\b</td>\n",
       "      <td>Олександрович[аийуяіеоюєїьмфцвскпнртгшлдщзбжх]...</td>\n",
       "      <td>Володимир Зеленський</td>\n",
       "      <td>Володимир</td>\n",
       "      <td>(Володимир[аийуяіеоюєїьмфцвскпнртгшлдщзбжх]{,3...</td>\n",
       "      <td>((Анатолі|Андрі|Антон|Аркаді|Арсен|Артем|Артур...</td>\n",
       "      <td>(Володимир[аийуяіеоюєїьмфцвскпнртгшлдщзбжх]{,3...</td>\n",
       "    </tr>\n",
       "    <tr>\n",
       "      <th>1</th>\n",
       "      <td>Порошенк[аийуяіеоюєїьмфцвскпнртгшлдщзбжх]{,3}\\b</td>\n",
       "      <td>Петр[аийуяіеоюєїьмфцвскпнртгшлдщзбжх]{,3}\\b</td>\n",
       "      <td>Олексійович[аийуяіеоюєїьмфцвскпнртгшлдщзбжх]{,...</td>\n",
       "      <td>Петро Порошенко</td>\n",
       "      <td>Петр</td>\n",
       "      <td>(Петр[аийуяіеоюєїьмфцвскпнртгшлдщзбжх]{,3}\\b П...</td>\n",
       "      <td>((Анатолі|Андрі|Антон|Аркаді|Арсен|Артем|Артур...</td>\n",
       "      <td>(Петр[аийуяіеоюєїьмфцвскпнртгшлдщзбжх]{,3}\\b О...</td>\n",
       "    </tr>\n",
       "    <tr>\n",
       "      <th>2</th>\n",
       "      <td>Венед(і|и)ктов[аийуяіеоюєїьмфцвскпнртгшлдщзбжх...</td>\n",
       "      <td>Ірин[аийуяіеоюєїьмфцвскпнртгшлдщзбжх]{,3}\\b</td>\n",
       "      <td>Валентинівн[аийуяіеоюєїьмфцвскпнртгшлдщзбжх]{,...</td>\n",
       "      <td>Ірина Венедіктова</td>\n",
       "      <td>Ірин</td>\n",
       "      <td>(Ірин[аийуяіеоюєїьмфцвскпнртгшлдщзбжх]{,3}\\b В...</td>\n",
       "      <td>((Анатолі|Андрі|Антон|Аркаді|Арсен|Артем|Артур...</td>\n",
       "      <td>(Ірин[аийуяіеоюєїьмфцвскпнртгшлдщзбжх]{,3}\\b В...</td>\n",
       "    </tr>\n",
       "    <tr>\n",
       "      <th>3</th>\n",
       "      <td>Аваков[аийуяіеоюєїьмфцвскпнртгшлдщзбжх]{,3}\\b</td>\n",
       "      <td>Арсен[аийуяіеоюєїьмфцвскпнртгшлдщзбжх]{,3}\\b</td>\n",
       "      <td>Борисович[аийуяіеоюєїьмфцвскпнртгшлдщзбжх]{,3}\\b</td>\n",
       "      <td>Арсен Аваков</td>\n",
       "      <td>Арсен</td>\n",
       "      <td>(Арсен[аийуяіеоюєїьмфцвскпнртгшлдщзбжх]{,3}\\b ...</td>\n",
       "      <td>((Анатолі|Андрі|Антон|Аркаді|Артем|Артур|Богда...</td>\n",
       "      <td>(Арсен[аийуяіеоюєїьмфцвскпнртгшлдщзбжх]{,3}\\b ...</td>\n",
       "    </tr>\n",
       "    <tr>\n",
       "      <th>4</th>\n",
       "      <td>Степанов[аийуяіеоюєїьмфцвскпнртгшлдщзбжх]{,3}\\b</td>\n",
       "      <td>Максим[аийуяіеоюєїьмфцвскпнртгшлдщзбжх]{,3}\\b</td>\n",
       "      <td>Володимирович[аийуяіеоюєїьмфцвскпнртгшлдщзбжх]...</td>\n",
       "      <td>Максим Степанов</td>\n",
       "      <td>Максим</td>\n",
       "      <td>(Максим[аийуяіеоюєїьмфцвскпнртгшлдщзбжх]{,3}\\b...</td>\n",
       "      <td>((Анатолі|Андрі|Антон|Аркаді|Арсен|Артем|Артур...</td>\n",
       "      <td>(Максим[аийуяіеоюєїьмфцвскпнртгшлдщзбжх]{,3}\\b...</td>\n",
       "    </tr>\n",
       "  </tbody>\n",
       "</table>\n",
       "</div>"
      ],
      "text/plain": [
       "                                             surname  \\\n",
       "0    Зеленськ[аийуяіеоюєїьмфцвскпнртгшлдщзбжх]{,3}\\b   \n",
       "1    Порошенк[аийуяіеоюєїьмфцвскпнртгшлдщзбжх]{,3}\\b   \n",
       "2  Венед(і|и)ктов[аийуяіеоюєїьмфцвскпнртгшлдщзбжх...   \n",
       "3      Аваков[аийуяіеоюєїьмфцвскпнртгшлдщзбжх]{,3}\\b   \n",
       "4    Степанов[аийуяіеоюєїьмфцвскпнртгшлдщзбжх]{,3}\\b   \n",
       "\n",
       "                                               name  \\\n",
       "0  Володимир[аийуяіеоюєїьмфцвскпнртгшлдщзбжх]{,3}\\b   \n",
       "1       Петр[аийуяіеоюєїьмфцвскпнртгшлдщзбжх]{,3}\\b   \n",
       "2       Ірин[аийуяіеоюєїьмфцвскпнртгшлдщзбжх]{,3}\\b   \n",
       "3      Арсен[аийуяіеоюєїьмфцвскпнртгшлдщзбжх]{,3}\\b   \n",
       "4     Максим[аийуяіеоюєїьмфцвскпнртгшлдщзбжх]{,3}\\b   \n",
       "\n",
       "                                            patronim              fullname  \\\n",
       "0  Олександрович[аийуяіеоюєїьмфцвскпнртгшлдщзбжх]...  Володимир Зеленський   \n",
       "1  Олексійович[аийуяіеоюєїьмфцвскпнртгшлдщзбжх]{,...       Петро Порошенко   \n",
       "2  Валентинівн[аийуяіеоюєїьмфцвскпнртгшлдщзбжх]{,...     Ірина Венедіктова   \n",
       "3   Борисович[аийуяіеоюєїьмфцвскпнртгшлдщзбжх]{,3}\\b          Арсен Аваков   \n",
       "4  Володимирович[аийуяіеоюєїьмфцвскпнртгшлдщзбжх]...       Максим Степанов   \n",
       "\n",
       "   shortname                                         name_forms  \\\n",
       "0  Володимир  (Володимир[аийуяіеоюєїьмфцвскпнртгшлдщзбжх]{,3...   \n",
       "1       Петр  (Петр[аийуяіеоюєїьмфцвскпнртгшлдщзбжх]{,3}\\b П...   \n",
       "2       Ірин  (Ірин[аийуяіеоюєїьмфцвскпнртгшлдщзбжх]{,3}\\b В...   \n",
       "3      Арсен  (Арсен[аийуяіеоюєїьмфцвскпнртгшлдщзбжх]{,3}\\b ...   \n",
       "4     Максим  (Максим[аийуяіеоюєїьмфцвскпнртгшлдщзбжх]{,3}\\b...   \n",
       "\n",
       "                                         wrong_names  \\\n",
       "0  ((Анатолі|Андрі|Антон|Аркаді|Арсен|Артем|Артур...   \n",
       "1  ((Анатолі|Андрі|Антон|Аркаді|Арсен|Артем|Артур...   \n",
       "2  ((Анатолі|Андрі|Антон|Аркаді|Арсен|Артем|Артур...   \n",
       "3  ((Анатолі|Андрі|Антон|Аркаді|Артем|Артур|Богда...   \n",
       "4  ((Анатолі|Андрі|Антон|Аркаді|Арсен|Артем|Артур...   \n",
       "\n",
       "                                       name_patronim  \n",
       "0  (Володимир[аийуяіеоюєїьмфцвскпнртгшлдщзбжх]{,3...  \n",
       "1  (Петр[аийуяіеоюєїьмфцвскпнртгшлдщзбжх]{,3}\\b О...  \n",
       "2  (Ірин[аийуяіеоюєїьмфцвскпнртгшлдщзбжх]{,3}\\b В...  \n",
       "3  (Арсен[аийуяіеоюєїьмфцвскпнртгшлдщзбжх]{,3}\\b ...  \n",
       "4  (Максим[аийуяіеоюєїьмфцвскпнртгшлдщзбжх]{,3}\\b...  "
      ]
     },
     "execution_count": 37,
     "metadata": {},
     "output_type": "execute_result"
    }
   ],
   "source": [
    "name_forms_ukr.head()"
   ]
  },
  {
   "cell_type": "markdown",
   "metadata": {},
   "source": [
    "#### Об'єднуємо регулярки українською та російською мовами в один датафрейм"
   ]
  },
  {
   "cell_type": "code",
   "execution_count": 38,
   "metadata": {},
   "outputs": [],
   "source": [
    "name_forms_ru = name_forms_ru.set_index('fullname', drop=False)\n",
    "name_forms_ukr = name_forms_ukr.set_index('fullname', drop=False)"
   ]
  },
  {
   "cell_type": "code",
   "execution_count": 39,
   "metadata": {},
   "outputs": [
    {
     "data": {
      "text/plain": [
       "'(Володимир[аийуяіеоюєїьмфцвскпнртгшлдщзбжх]{,3}\\\\b Зеленськ[аийуяіеоюєїьмфцвскпнртгшлдщзбжх]{,3}\\\\b)|(Владимир[аийуыяеоюёьэмфцвскпнртгшлдщзбжх]{,3}\\\\b Зеленск[аийуыяеоюёьэмфцвскпнртгшлдщзбжх]{,3}\\\\b)'"
      ]
     },
     "execution_count": 39,
     "metadata": {},
     "output_type": "execute_result"
    }
   ],
   "source": [
    "name_forms_all = name_forms_ukr.copy()\n",
    "name_forms_all['forms_ukr_ru'] = name_forms_ukr.name_forms+'|'+name_forms_ru.name_forms\n",
    "name_forms_all.forms_ukr_ru.iloc[0]"
   ]
  },
  {
   "cell_type": "code",
   "execution_count": 40,
   "metadata": {},
   "outputs": [
    {
     "data": {
      "text/plain": [
       "'(Зеленськ[аийуяіеоюєїьмфцвскпнртгшлдщзбжх]{,3}\\\\b|Зеленск[аийуыяеоюёьэмфцвскпнртгшлдщзбжх]{,3}\\\\b)'"
      ]
     },
     "execution_count": 40,
     "metadata": {},
     "output_type": "execute_result"
    }
   ],
   "source": [
    "name_forms_all['surname_ukr_ru'] = '('+name_forms_ukr.surname+'|'+name_forms_ru.surname+')'\n",
    "name_forms_all.surname_ukr_ru.iloc[0]"
   ]
  },
  {
   "cell_type": "code",
   "execution_count": 41,
   "metadata": {},
   "outputs": [
    {
     "data": {
      "text/plain": [
       "\"((Анатолі|Андрі|Антон|Аркаді|Арсен|Артем|Артур|Богдан|Борис|Валентин|Валері|Васил|Вадим|Віктор|Віталі|Владислав|Всеволод|В'ячеслав|Генн?аді|Георгі|Гліб|Гнат|Григорі|Давид|Данил|Денис|Дмитр|Єгор|Євген|Захар|Зорян|Ілл|Іван|Ігор|Кирил|Костянтин|Леонід|Лук'ян|Любомир|Маркіян|Макар|Максим|Марк|Мартин|Микит|Микол|Мирон|Мирослав|Михайл|Назар|Олег|Олександр|Олексі|Олес|Остап|Павл|Пантелеймон|Панас|Петр|Руслан|Роман|Ростислав|Семен|Святослав|Сергі|Степан|Тарас|Тимофі|Федір|Юрі|Юхим|Яків|Ярослав|Алін|Аліс|Алл|Альбін|Альон|Анастасі|Ангелін|Анжелік|Анн|Антонін|Василин|Веронік|Вікторі|Галин|Ганн|Дарин|Дарі|Евелін|Євдокі|Єлизавет|Злат|Іванн|Ілон|Інн|Карин|Катерин|Ірин|Євгені|Ксені|Ларис|Ліді|Лілі|Лін|Лєн|Любов|Людмил|Маргарит|Марин|Марі|Март|Мирослав|Наді|Натал|Оксан|Олен|Ольг|Полін|Римм|Саш|Світлан|Соломі|Софі|Таїсі|Тетян|Тамар|Мелан|Єкатерин|Роксолан|Христин|Юлі|Ян|Янін|Сніжан|Мелінд|Ірен|Марічк|Крістін|Устин|Кат|Наст|Люд|Люб|Даш|Ліз|Тон|Тол|Слав|Наташ|Діан|Центр|центр|Маршал)[аийуяіеоюєїьмфцвскпнртгшлдщзбжх]{,3}\\\\b Зеленськ[аийуяіеоюєїьмфцвскпнртгшлдщзбжх]{,3}\\\\b)|((Анатоли|Андре|Антон|Аркади|Арсен|Арт(ё|е)м|Артур|Богдан|Борис|Валентин|Валери|Васил|Вадим|Виктор|Витали|Владислав|Всеволод|Вячеслав|Геннади|Георги|Глеб|Григори|Давид|Дании?л|Денис|Дмитр|Егор|Евгени|Захар|Зорян|Илл|Иван|Игор|Кирилл|Константин|Леонид|Лукьян|Любомир|Маркиян|Макар|Максим|Марк|Никит|Никол|Мирон|Мирослав|Михаил|Назар|Олег|Александр|Алексе|Остап|Паве?л|Панас|П(е|ё)тр|Руслан|Роман|Ростислав|Сем(е|ё)н|Святослав|Серге|Степан|Тарас|Тимофе|Ф(е|ё)дор|Юри|Юхим|Яков|Ярослав|Алин|Алис|Алл|Альбин|Ал(е|ё)н|Анастаси|Ангелин|Анжелик|Анн|Антонин|Вероник|Виктори|Галин|Дарь|Эвелин|Евдоки|Елизавет|Злат|Иванн|Илон|Инн|Карин|Екатерин|Ирин|Ксени|Ларис|Лиди|Лили|Лин|Любов|Людмил|Маргарит|Марин|Мари|Март|Мирослав|Надежд|Натал|Оксан|Елен|Лен|Ольг|Полин|Саш|Светлан|Соломи|Софи|Таиси|Татьян|Кристин|Юли|Янин|Ян|Снежан|Роксолан|Мелан|Маричк|Кат|Наст|Люд|Люб|Даш|Лиз|Слав|Тон|Тол|Наташ|Тамар|Диан|Центр|центр|Маршал)[аийуыяеоюёьэмфцвскпнртгшлдщзбжх]{,3}\\\\b Зеленск[аийуыяеоюёьэмфцвскпнртгшлдщзбжх]{,3}\\\\b)\""
      ]
     },
     "execution_count": 41,
     "metadata": {},
     "output_type": "execute_result"
    }
   ],
   "source": [
    "name_forms_all['wrong_forms_ukr_ru'] = name_forms_ukr.wrong_names+'|'+name_forms_ru.wrong_names\n",
    "name_forms_all.wrong_forms_ukr_ru.iloc[0]"
   ]
  },
  {
   "cell_type": "code",
   "execution_count": 42,
   "metadata": {},
   "outputs": [
    {
     "data": {
      "text/plain": [
       "'(Володимир[аийуяіеоюєїьмфцвскпнртгшлдщзбжх]{,3}\\\\b Олександрович[аийуяіеоюєїьмфцвскпнртгшлдщзбжх]{,3}\\\\b)|(Владимир[аийуыяеоюёьэмфцвскпнртгшлдщзбжх]{,3}\\\\b Александрович[аийуыяеоюёьэмфцвскпнртгшлдщзбжх]{,3}\\\\b)'"
      ]
     },
     "execution_count": 42,
     "metadata": {},
     "output_type": "execute_result"
    }
   ],
   "source": [
    "name_forms_all['name_patronim_ukr_ru'] = name_forms_ukr.name_patronim+'|'+name_forms_ru.name_patronim\n",
    "name_forms_all.name_patronim_ukr_ru.iloc[0]"
   ]
  },
  {
   "cell_type": "code",
   "execution_count": 43,
   "metadata": {},
   "outputs": [],
   "source": [
    "mentions = news[['link', 'language']].copy()"
   ]
  },
  {
   "cell_type": "markdown",
   "metadata": {},
   "source": [
    "#### Шукаємо у рядку all_ent_str варіанти імен політиків, рахуємо кількість входжень кожної окремої форми (повного імені, прізвища, по-батькові та неправильних імен)"
   ]
  },
  {
   "cell_type": "code",
   "execution_count": 44,
   "metadata": {},
   "outputs": [],
   "source": [
    "def search_for_name(entities, entities_col, name_forms, politician, col_suffix, mentions):\n",
    "    res = entities[entities_col].str.extractall(name_forms)\n",
    "    ment_col = politician + col_suffix\n",
    "    mentions[ment_col] = res.groupby(level=[0]).size()\n",
    "    return mentions"
   ]
  },
  {
   "cell_type": "code",
   "execution_count": 28,
   "metadata": {},
   "outputs": [],
   "source": [
    "for i, r in name_forms_all.iterrows():\n",
    "    mentions = search_for_name(news, 'all_ent_str', r.forms_ukr_ru, i, '_fullname', mentions)"
   ]
  },
  {
   "cell_type": "code",
   "execution_count": null,
   "metadata": {},
   "outputs": [],
   "source": [
    "for i, r in name_forms_all.iterrows():\n",
    "    mentions = search_for_name(news, 'all_ent_str', r.surname_ukr_ru, i, '_surname', mentions)"
   ]
  },
  {
   "cell_type": "code",
   "execution_count": null,
   "metadata": {},
   "outputs": [],
   "source": [
    "for i, r in name_forms_all.iterrows():\n",
    "    mentions = search_for_name(news, 'all_ent_str', r.wrong_forms_ukr_ru, i, '_wrong', mentions)"
   ]
  },
  {
   "cell_type": "code",
   "execution_count": null,
   "metadata": {},
   "outputs": [],
   "source": [
    "for i, r in name_forms_all.iterrows():\n",
    "    if pd.notna(r.patronim):\n",
    "        mentions = search_for_name(news, 'all_ent_str', r.name_patronim_ukr_ru, i, '_patronim', mentions)"
   ]
  },
  {
   "cell_type": "code",
   "execution_count": 84,
   "metadata": {},
   "outputs": [
    {
     "data": {
      "text/html": [
       "<div>\n",
       "<style scoped>\n",
       "    .dataframe tbody tr th:only-of-type {\n",
       "        vertical-align: middle;\n",
       "    }\n",
       "\n",
       "    .dataframe tbody tr th {\n",
       "        vertical-align: top;\n",
       "    }\n",
       "\n",
       "    .dataframe thead th {\n",
       "        text-align: right;\n",
       "    }\n",
       "</style>\n",
       "<table border=\"1\" class=\"dataframe\">\n",
       "  <thead>\n",
       "    <tr style=\"text-align: right;\">\n",
       "      <th></th>\n",
       "      <th>link</th>\n",
       "      <th>language</th>\n",
       "      <th>Володимир Зеленський_fullname</th>\n",
       "      <th>Петро Порошенко_fullname</th>\n",
       "      <th>Ірина Венедіктова_fullname</th>\n",
       "      <th>Арсен Аваков_fullname</th>\n",
       "      <th>Максим Степанов_fullname</th>\n",
       "      <th>Юлія Тимошенко_fullname</th>\n",
       "      <th>Денис Шмигаль_fullname</th>\n",
       "      <th>Давид Арахамія_fullname</th>\n",
       "      <th>...</th>\n",
       "      <th>Михайло Федоров_patronim</th>\n",
       "      <th>Микола Тищенко_patronim</th>\n",
       "      <th>Ольга Стефанішина_patronim</th>\n",
       "      <th>Кирило Шевченко_patronim</th>\n",
       "      <th>Тарас Козак_patronim</th>\n",
       "      <th>Олександр Дубінський_patronim</th>\n",
       "      <th>Олег Уруський_patronim</th>\n",
       "      <th>Олександр Качура_patronim</th>\n",
       "      <th>Ярослав Железняк_patronim</th>\n",
       "      <th>Андрій Деркач_patronim</th>\n",
       "    </tr>\n",
       "    <tr>\n",
       "      <th>id</th>\n",
       "      <th></th>\n",
       "      <th></th>\n",
       "      <th></th>\n",
       "      <th></th>\n",
       "      <th></th>\n",
       "      <th></th>\n",
       "      <th></th>\n",
       "      <th></th>\n",
       "      <th></th>\n",
       "      <th></th>\n",
       "      <th></th>\n",
       "      <th></th>\n",
       "      <th></th>\n",
       "      <th></th>\n",
       "      <th></th>\n",
       "      <th></th>\n",
       "      <th></th>\n",
       "      <th></th>\n",
       "      <th></th>\n",
       "      <th></th>\n",
       "      <th></th>\n",
       "    </tr>\n",
       "  </thead>\n",
       "  <tbody>\n",
       "    <tr>\n",
       "      <th>2075213</th>\n",
       "      <td>https://news.obozrevatel.com/ukr/abroad/italiy...</td>\n",
       "      <td>uk</td>\n",
       "      <td>NaN</td>\n",
       "      <td>NaN</td>\n",
       "      <td>NaN</td>\n",
       "      <td>NaN</td>\n",
       "      <td>NaN</td>\n",
       "      <td>NaN</td>\n",
       "      <td>NaN</td>\n",
       "      <td>NaN</td>\n",
       "      <td>...</td>\n",
       "      <td>NaN</td>\n",
       "      <td>NaN</td>\n",
       "      <td>NaN</td>\n",
       "      <td>NaN</td>\n",
       "      <td>NaN</td>\n",
       "      <td>NaN</td>\n",
       "      <td>NaN</td>\n",
       "      <td>NaN</td>\n",
       "      <td>NaN</td>\n",
       "      <td>NaN</td>\n",
       "    </tr>\n",
       "    <tr>\n",
       "      <th>2077435</th>\n",
       "      <td>https://news.obozrevatel.com/ukr/auto/news/cup...</td>\n",
       "      <td>uk</td>\n",
       "      <td>NaN</td>\n",
       "      <td>NaN</td>\n",
       "      <td>NaN</td>\n",
       "      <td>NaN</td>\n",
       "      <td>NaN</td>\n",
       "      <td>NaN</td>\n",
       "      <td>NaN</td>\n",
       "      <td>NaN</td>\n",
       "      <td>...</td>\n",
       "      <td>NaN</td>\n",
       "      <td>NaN</td>\n",
       "      <td>NaN</td>\n",
       "      <td>NaN</td>\n",
       "      <td>NaN</td>\n",
       "      <td>NaN</td>\n",
       "      <td>NaN</td>\n",
       "      <td>NaN</td>\n",
       "      <td>NaN</td>\n",
       "      <td>NaN</td>\n",
       "    </tr>\n",
       "    <tr>\n",
       "      <th>2076296</th>\n",
       "      <td>https://news.obozrevatel.com/ukr/travel/dvi-uk...</td>\n",
       "      <td>uk</td>\n",
       "      <td>NaN</td>\n",
       "      <td>NaN</td>\n",
       "      <td>NaN</td>\n",
       "      <td>NaN</td>\n",
       "      <td>NaN</td>\n",
       "      <td>NaN</td>\n",
       "      <td>NaN</td>\n",
       "      <td>NaN</td>\n",
       "      <td>...</td>\n",
       "      <td>NaN</td>\n",
       "      <td>NaN</td>\n",
       "      <td>NaN</td>\n",
       "      <td>NaN</td>\n",
       "      <td>NaN</td>\n",
       "      <td>NaN</td>\n",
       "      <td>NaN</td>\n",
       "      <td>NaN</td>\n",
       "      <td>NaN</td>\n",
       "      <td>NaN</td>\n",
       "    </tr>\n",
       "    <tr>\n",
       "      <th>2081964</th>\n",
       "      <td>https://www.rbc.ua/ukr/news/ukraine-hotyat-soz...</td>\n",
       "      <td>uk</td>\n",
       "      <td>NaN</td>\n",
       "      <td>NaN</td>\n",
       "      <td>NaN</td>\n",
       "      <td>NaN</td>\n",
       "      <td>NaN</td>\n",
       "      <td>NaN</td>\n",
       "      <td>NaN</td>\n",
       "      <td>NaN</td>\n",
       "      <td>...</td>\n",
       "      <td>NaN</td>\n",
       "      <td>NaN</td>\n",
       "      <td>NaN</td>\n",
       "      <td>NaN</td>\n",
       "      <td>NaN</td>\n",
       "      <td>NaN</td>\n",
       "      <td>NaN</td>\n",
       "      <td>NaN</td>\n",
       "      <td>NaN</td>\n",
       "      <td>NaN</td>\n",
       "    </tr>\n",
       "    <tr>\n",
       "      <th>2081965</th>\n",
       "      <td>https://www.rbc.ua/ukr/news/razvedchiki-morsko...</td>\n",
       "      <td>uk</td>\n",
       "      <td>NaN</td>\n",
       "      <td>NaN</td>\n",
       "      <td>NaN</td>\n",
       "      <td>NaN</td>\n",
       "      <td>NaN</td>\n",
       "      <td>NaN</td>\n",
       "      <td>NaN</td>\n",
       "      <td>NaN</td>\n",
       "      <td>...</td>\n",
       "      <td>NaN</td>\n",
       "      <td>NaN</td>\n",
       "      <td>NaN</td>\n",
       "      <td>NaN</td>\n",
       "      <td>NaN</td>\n",
       "      <td>NaN</td>\n",
       "      <td>NaN</td>\n",
       "      <td>NaN</td>\n",
       "      <td>NaN</td>\n",
       "      <td>NaN</td>\n",
       "    </tr>\n",
       "    <tr>\n",
       "      <th>...</th>\n",
       "      <td>...</td>\n",
       "      <td>...</td>\n",
       "      <td>...</td>\n",
       "      <td>...</td>\n",
       "      <td>...</td>\n",
       "      <td>...</td>\n",
       "      <td>...</td>\n",
       "      <td>...</td>\n",
       "      <td>...</td>\n",
       "      <td>...</td>\n",
       "      <td>...</td>\n",
       "      <td>...</td>\n",
       "      <td>...</td>\n",
       "      <td>...</td>\n",
       "      <td>...</td>\n",
       "      <td>...</td>\n",
       "      <td>...</td>\n",
       "      <td>...</td>\n",
       "      <td>...</td>\n",
       "      <td>...</td>\n",
       "      <td>...</td>\n",
       "    </tr>\n",
       "    <tr>\n",
       "      <th>2072553</th>\n",
       "      <td>https://www.pravda.com.ua/news/2021/05/11/7293...</td>\n",
       "      <td>uk</td>\n",
       "      <td>NaN</td>\n",
       "      <td>NaN</td>\n",
       "      <td>NaN</td>\n",
       "      <td>NaN</td>\n",
       "      <td>NaN</td>\n",
       "      <td>NaN</td>\n",
       "      <td>NaN</td>\n",
       "      <td>NaN</td>\n",
       "      <td>...</td>\n",
       "      <td>NaN</td>\n",
       "      <td>NaN</td>\n",
       "      <td>NaN</td>\n",
       "      <td>NaN</td>\n",
       "      <td>NaN</td>\n",
       "      <td>NaN</td>\n",
       "      <td>NaN</td>\n",
       "      <td>NaN</td>\n",
       "      <td>NaN</td>\n",
       "      <td>NaN</td>\n",
       "    </tr>\n",
       "    <tr>\n",
       "      <th>2072554</th>\n",
       "      <td>https://www.pravda.com.ua/news/2021/05/11/7293...</td>\n",
       "      <td>uk</td>\n",
       "      <td>NaN</td>\n",
       "      <td>NaN</td>\n",
       "      <td>NaN</td>\n",
       "      <td>NaN</td>\n",
       "      <td>NaN</td>\n",
       "      <td>NaN</td>\n",
       "      <td>NaN</td>\n",
       "      <td>NaN</td>\n",
       "      <td>...</td>\n",
       "      <td>NaN</td>\n",
       "      <td>NaN</td>\n",
       "      <td>NaN</td>\n",
       "      <td>NaN</td>\n",
       "      <td>NaN</td>\n",
       "      <td>NaN</td>\n",
       "      <td>NaN</td>\n",
       "      <td>NaN</td>\n",
       "      <td>NaN</td>\n",
       "      <td>NaN</td>\n",
       "    </tr>\n",
       "    <tr>\n",
       "      <th>2072555</th>\n",
       "      <td>https://www.pravda.com.ua/news/2021/05/12/7293...</td>\n",
       "      <td>uk</td>\n",
       "      <td>NaN</td>\n",
       "      <td>NaN</td>\n",
       "      <td>NaN</td>\n",
       "      <td>NaN</td>\n",
       "      <td>NaN</td>\n",
       "      <td>NaN</td>\n",
       "      <td>NaN</td>\n",
       "      <td>NaN</td>\n",
       "      <td>...</td>\n",
       "      <td>NaN</td>\n",
       "      <td>NaN</td>\n",
       "      <td>NaN</td>\n",
       "      <td>NaN</td>\n",
       "      <td>NaN</td>\n",
       "      <td>NaN</td>\n",
       "      <td>NaN</td>\n",
       "      <td>NaN</td>\n",
       "      <td>NaN</td>\n",
       "      <td>NaN</td>\n",
       "    </tr>\n",
       "    <tr>\n",
       "      <th>2072556</th>\n",
       "      <td>https://www.pravda.com.ua/news/2021/05/13/7293...</td>\n",
       "      <td>uk</td>\n",
       "      <td>NaN</td>\n",
       "      <td>NaN</td>\n",
       "      <td>NaN</td>\n",
       "      <td>NaN</td>\n",
       "      <td>NaN</td>\n",
       "      <td>NaN</td>\n",
       "      <td>NaN</td>\n",
       "      <td>NaN</td>\n",
       "      <td>...</td>\n",
       "      <td>NaN</td>\n",
       "      <td>NaN</td>\n",
       "      <td>NaN</td>\n",
       "      <td>NaN</td>\n",
       "      <td>NaN</td>\n",
       "      <td>NaN</td>\n",
       "      <td>NaN</td>\n",
       "      <td>NaN</td>\n",
       "      <td>NaN</td>\n",
       "      <td>NaN</td>\n",
       "    </tr>\n",
       "    <tr>\n",
       "      <th>2072557</th>\n",
       "      <td>https://www.pravda.com.ua/news/2021/05/13/7293...</td>\n",
       "      <td>uk</td>\n",
       "      <td>NaN</td>\n",
       "      <td>NaN</td>\n",
       "      <td>NaN</td>\n",
       "      <td>NaN</td>\n",
       "      <td>NaN</td>\n",
       "      <td>NaN</td>\n",
       "      <td>NaN</td>\n",
       "      <td>NaN</td>\n",
       "      <td>...</td>\n",
       "      <td>NaN</td>\n",
       "      <td>NaN</td>\n",
       "      <td>NaN</td>\n",
       "      <td>NaN</td>\n",
       "      <td>NaN</td>\n",
       "      <td>NaN</td>\n",
       "      <td>NaN</td>\n",
       "      <td>NaN</td>\n",
       "      <td>NaN</td>\n",
       "      <td>NaN</td>\n",
       "    </tr>\n",
       "  </tbody>\n",
       "</table>\n",
       "<p>151397 rows × 268 columns</p>\n",
       "</div>"
      ],
      "text/plain": [
       "                                                      link language  \\\n",
       "id                                                                    \n",
       "2075213  https://news.obozrevatel.com/ukr/abroad/italiy...       uk   \n",
       "2077435  https://news.obozrevatel.com/ukr/auto/news/cup...       uk   \n",
       "2076296  https://news.obozrevatel.com/ukr/travel/dvi-uk...       uk   \n",
       "2081964  https://www.rbc.ua/ukr/news/ukraine-hotyat-soz...       uk   \n",
       "2081965  https://www.rbc.ua/ukr/news/razvedchiki-morsko...       uk   \n",
       "...                                                    ...      ...   \n",
       "2072553  https://www.pravda.com.ua/news/2021/05/11/7293...       uk   \n",
       "2072554  https://www.pravda.com.ua/news/2021/05/11/7293...       uk   \n",
       "2072555  https://www.pravda.com.ua/news/2021/05/12/7293...       uk   \n",
       "2072556  https://www.pravda.com.ua/news/2021/05/13/7293...       uk   \n",
       "2072557  https://www.pravda.com.ua/news/2021/05/13/7293...       uk   \n",
       "\n",
       "         Володимир Зеленський_fullname  Петро Порошенко_fullname  \\\n",
       "id                                                                 \n",
       "2075213                            NaN                       NaN   \n",
       "2077435                            NaN                       NaN   \n",
       "2076296                            NaN                       NaN   \n",
       "2081964                            NaN                       NaN   \n",
       "2081965                            NaN                       NaN   \n",
       "...                                ...                       ...   \n",
       "2072553                            NaN                       NaN   \n",
       "2072554                            NaN                       NaN   \n",
       "2072555                            NaN                       NaN   \n",
       "2072556                            NaN                       NaN   \n",
       "2072557                            NaN                       NaN   \n",
       "\n",
       "         Ірина Венедіктова_fullname  Арсен Аваков_fullname  \\\n",
       "id                                                           \n",
       "2075213                         NaN                    NaN   \n",
       "2077435                         NaN                    NaN   \n",
       "2076296                         NaN                    NaN   \n",
       "2081964                         NaN                    NaN   \n",
       "2081965                         NaN                    NaN   \n",
       "...                             ...                    ...   \n",
       "2072553                         NaN                    NaN   \n",
       "2072554                         NaN                    NaN   \n",
       "2072555                         NaN                    NaN   \n",
       "2072556                         NaN                    NaN   \n",
       "2072557                         NaN                    NaN   \n",
       "\n",
       "         Максим Степанов_fullname  Юлія Тимошенко_fullname  \\\n",
       "id                                                           \n",
       "2075213                       NaN                      NaN   \n",
       "2077435                       NaN                      NaN   \n",
       "2076296                       NaN                      NaN   \n",
       "2081964                       NaN                      NaN   \n",
       "2081965                       NaN                      NaN   \n",
       "...                           ...                      ...   \n",
       "2072553                       NaN                      NaN   \n",
       "2072554                       NaN                      NaN   \n",
       "2072555                       NaN                      NaN   \n",
       "2072556                       NaN                      NaN   \n",
       "2072557                       NaN                      NaN   \n",
       "\n",
       "         Денис Шмигаль_fullname  Давид Арахамія_fullname  ...  \\\n",
       "id                                                        ...   \n",
       "2075213                     NaN                      NaN  ...   \n",
       "2077435                     NaN                      NaN  ...   \n",
       "2076296                     NaN                      NaN  ...   \n",
       "2081964                     NaN                      NaN  ...   \n",
       "2081965                     NaN                      NaN  ...   \n",
       "...                         ...                      ...  ...   \n",
       "2072553                     NaN                      NaN  ...   \n",
       "2072554                     NaN                      NaN  ...   \n",
       "2072555                     NaN                      NaN  ...   \n",
       "2072556                     NaN                      NaN  ...   \n",
       "2072557                     NaN                      NaN  ...   \n",
       "\n",
       "         Михайло Федоров_patronim  Микола Тищенко_patronim  \\\n",
       "id                                                           \n",
       "2075213                       NaN                      NaN   \n",
       "2077435                       NaN                      NaN   \n",
       "2076296                       NaN                      NaN   \n",
       "2081964                       NaN                      NaN   \n",
       "2081965                       NaN                      NaN   \n",
       "...                           ...                      ...   \n",
       "2072553                       NaN                      NaN   \n",
       "2072554                       NaN                      NaN   \n",
       "2072555                       NaN                      NaN   \n",
       "2072556                       NaN                      NaN   \n",
       "2072557                       NaN                      NaN   \n",
       "\n",
       "         Ольга Стефанішина_patronim  Кирило Шевченко_patronim  \\\n",
       "id                                                              \n",
       "2075213                         NaN                       NaN   \n",
       "2077435                         NaN                       NaN   \n",
       "2076296                         NaN                       NaN   \n",
       "2081964                         NaN                       NaN   \n",
       "2081965                         NaN                       NaN   \n",
       "...                             ...                       ...   \n",
       "2072553                         NaN                       NaN   \n",
       "2072554                         NaN                       NaN   \n",
       "2072555                         NaN                       NaN   \n",
       "2072556                         NaN                       NaN   \n",
       "2072557                         NaN                       NaN   \n",
       "\n",
       "         Тарас Козак_patronim  Олександр Дубінський_patronim  \\\n",
       "id                                                             \n",
       "2075213                   NaN                            NaN   \n",
       "2077435                   NaN                            NaN   \n",
       "2076296                   NaN                            NaN   \n",
       "2081964                   NaN                            NaN   \n",
       "2081965                   NaN                            NaN   \n",
       "...                       ...                            ...   \n",
       "2072553                   NaN                            NaN   \n",
       "2072554                   NaN                            NaN   \n",
       "2072555                   NaN                            NaN   \n",
       "2072556                   NaN                            NaN   \n",
       "2072557                   NaN                            NaN   \n",
       "\n",
       "         Олег Уруський_patronim  Олександр Качура_patronim  \\\n",
       "id                                                           \n",
       "2075213                     NaN                        NaN   \n",
       "2077435                     NaN                        NaN   \n",
       "2076296                     NaN                        NaN   \n",
       "2081964                     NaN                        NaN   \n",
       "2081965                     NaN                        NaN   \n",
       "...                         ...                        ...   \n",
       "2072553                     NaN                        NaN   \n",
       "2072554                     NaN                        NaN   \n",
       "2072555                     NaN                        NaN   \n",
       "2072556                     NaN                        NaN   \n",
       "2072557                     NaN                        NaN   \n",
       "\n",
       "         Ярослав Железняк_patronim  Андрій Деркач_patronim  \n",
       "id                                                          \n",
       "2075213                        NaN                     NaN  \n",
       "2077435                        NaN                     NaN  \n",
       "2076296                        NaN                     NaN  \n",
       "2081964                        NaN                     NaN  \n",
       "2081965                        NaN                     NaN  \n",
       "...                            ...                     ...  \n",
       "2072553                        NaN                     NaN  \n",
       "2072554                        NaN                     NaN  \n",
       "2072555                        NaN                     NaN  \n",
       "2072556                        NaN                     NaN  \n",
       "2072557                        NaN                     NaN  \n",
       "\n",
       "[151397 rows x 268 columns]"
      ]
     },
     "execution_count": 84,
     "metadata": {},
     "output_type": "execute_result"
    }
   ],
   "source": [
    "mentions"
   ]
  },
  {
   "cell_type": "markdown",
   "metadata": {},
   "source": [
    "#### Для політиків без по-батькові присвоюємо 0 у відповідні стовпчики"
   ]
  },
  {
   "cell_type": "code",
   "execution_count": 43,
   "metadata": {},
   "outputs": [],
   "source": [
    "for pol in politicians_dict_ukr.fullname.values:\n",
    "    patronim_col = pol+'_patronim'\n",
    "    if patronim_col not in mentions.columns:\n",
    "        mentions[patronim_col] = 0"
   ]
  },
  {
   "cell_type": "markdown",
   "metadata": {},
   "source": [
    "#### Рахуємо сумарну кількість згадок політика у новині за таким принципом:\n",
    " - якщо в новині немає неправильного варіанту, то додаємо кіл-ть входжень прізвища та ім'я+по-батькові\n",
    " - якщо в новині були згадки неправильного імені, то згадки просто прізвища рахувати ненадійно, сумуються тільки згадки повного імені (ім'я+прізвище) та ім'я+по-батькові"
   ]
  },
  {
   "cell_type": "code",
   "execution_count": 44,
   "metadata": {},
   "outputs": [],
   "source": [
    "for pol in politicians_dict_ukr.fullname.values:\n",
    "    patronim_col = pol+'_patronim'\n",
    "    surname_col = pol+'_surname'\n",
    "    fullname_col = pol+'_fullname'\n",
    "    wrong_name_col = pol+'_wrong'\n",
    "    res_col = pol+'_res'\n",
    "    mentions[res_col] = 0\n",
    "    mask1 = (mentions[wrong_name_col]==0)&(mentions[surname_col]>0)\n",
    "    mentions.loc[mask1, res_col] = mentions[mask1][surname_col] + mentions[mask1][patronim_col]\n",
    "    \n",
    "    mask2 = (mentions[wrong_name_col]>0)&(mentions[surname_col]>0)\n",
    "    mentions.loc[mask2, res_col] = mentions[mask2][fullname_col] + mentions[mask2][patronim_col]\n",
    "    "
   ]
  },
  {
   "cell_type": "code",
   "execution_count": 53,
   "metadata": {
    "scrolled": true
   },
   "outputs": [
    {
     "data": {
      "text/plain": [
       "['Володимир Зеленський_res',\n",
       " 'Петро Порошенко_res',\n",
       " 'Ірина Венедіктова_res',\n",
       " 'Арсен Аваков_res',\n",
       " 'Максим Степанов_res',\n",
       " 'Юлія Тимошенко_res',\n",
       " 'Денис Шмигаль_res',\n",
       " 'Давид Арахамія_res',\n",
       " 'Віктор Медведчук_res',\n",
       " 'Міхеіл Саакашвілі_res',\n",
       " 'Вадим Рабінович_res',\n",
       " 'Олексій Гончаренко_res',\n",
       " 'Віталій Кличко_res',\n",
       " 'Юрій Бойко_res',\n",
       " 'Дмитро Разумков_res',\n",
       " 'Віктор Ляшко_res',\n",
       " 'Андрій Єрмак_res',\n",
       " 'Гео Лерос_res',\n",
       " 'Іван Баканов_res',\n",
       " 'Артем Ситник_res',\n",
       " 'Назар Холодницький_res',\n",
       " 'Владислав Криклій_res',\n",
       " 'Олександр Ткаченко_res',\n",
       " 'Геннадій Труханов_res',\n",
       " 'Андрій Садовий_res',\n",
       " 'Борис Філатов_res',\n",
       " 'Денис Малюська_res',\n",
       " 'Олександр Корнієнко_res',\n",
       " 'Кіра Рудик_res',\n",
       " 'Дмитро Кулеба_res',\n",
       " 'Олексій Данілов_res',\n",
       " 'Леонід Кравчук_res',\n",
       " 'Юрій Вітренко_res',\n",
       " 'Антон Геращенко_res',\n",
       " 'Сергій Марченко_res',\n",
       " 'Олексій Резніков_res',\n",
       " 'Олег Татаров_res',\n",
       " 'Євгенія Кравчук_res',\n",
       " 'Кирило Тимошенко_res',\n",
       " 'Ігор Терехов_res',\n",
       " 'Сергій Шкарлет_res',\n",
       " 'Марина Лазебна_res',\n",
       " 'Олексій Арестович_res',\n",
       " 'Михайло Радуцький_res',\n",
       " 'Михайло Подоляк_res',\n",
       " 'Людмила Денісова_res',\n",
       " 'Ігор Петрашко_res',\n",
       " 'Данило Гетманцев_res',\n",
       " 'Ілля Кива_res',\n",
       " 'Руслан Хомчак_res',\n",
       " 'Олег Немчінов_res',\n",
       " 'Руслан Стефанчук_res',\n",
       " 'Андрій Таран_res',\n",
       " 'Андрій Коболєв_res',\n",
       " 'Євгеній Шевченко_res',\n",
       " 'Руслан Марцінків_res',\n",
       " 'Євгеній Єнін_res',\n",
       " 'Михайло Федоров_res',\n",
       " 'Микола Тищенко_res',\n",
       " 'Ольга Стефанішина_res',\n",
       " 'Кирило Шевченко_res',\n",
       " 'Тарас Козак_res',\n",
       " 'Олександр Дубінський_res',\n",
       " 'Олег Уруський_res',\n",
       " 'Олександр Качура_res',\n",
       " 'Ярослав Железняк_res',\n",
       " 'Андрій Деркач_res']"
      ]
     },
     "execution_count": 53,
     "metadata": {},
     "output_type": "execute_result"
    }
   ],
   "source": [
    "res_cols = [col for col in mentions.columns if '_res' in col]\n",
    "res_cols"
   ]
  },
  {
   "cell_type": "markdown",
   "metadata": {},
   "source": [
    "#### Отримані сумарні кількості згадок перетворюємо в рядки вигляду Ім'я+кіл-ть згадок і об'єднуємо їх через §\n",
    "\n",
    "Наприклад, \"Володимир Зеленський+1§Петро Порошенко+1\" - у новині по разу згадувалися Зеленський і Порошенко"
   ]
  },
  {
   "cell_type": "code",
   "execution_count": 54,
   "metadata": {},
   "outputs": [],
   "source": [
    "def get_mentions_dict(row):\n",
    "    mentions_num = []\n",
    "    for pol in politicians_dict_ukr.fullname.values:\n",
    "        res_col = pol + '_res'\n",
    "        if row[res_col] > 0:\n",
    "            mentions_num.append('+'.join([pol, str(row[res_col])]))\n",
    "    return '§'.join(mentions_num)"
   ]
  },
  {
   "cell_type": "code",
   "execution_count": 55,
   "metadata": {},
   "outputs": [],
   "source": [
    "mentions['mentions_str'] = mentions.apply(lambda row: get_mentions_dict(row), axis=1)"
   ]
  },
  {
   "cell_type": "code",
   "execution_count": 75,
   "metadata": {},
   "outputs": [],
   "source": [
    "mentions_filepath = 'summer_politicians_mentions.csv'\n",
    "mentions.to_csv(mentions_filepath)"
   ]
  },
  {
   "cell_type": "code",
   "execution_count": 67,
   "metadata": {},
   "outputs": [],
   "source": [
    "news['mentions'] = mentions['mentions_str']"
   ]
  },
  {
   "cell_type": "markdown",
   "metadata": {},
   "source": [
    "#### Зберегти у файл, тільки не забути виключити перед цим зайві стовпчики"
   ]
  },
  {
   "cell_type": "code",
   "execution_count": 45,
   "metadata": {},
   "outputs": [],
   "source": [
    "news.to_csv(news_filepath)"
   ]
  }
 ],
 "metadata": {
  "kernelspec": {
   "display_name": "Python 3",
   "language": "python",
   "name": "python3"
  },
  "language_info": {
   "codemirror_mode": {
    "name": "ipython",
    "version": 3
   },
   "file_extension": ".py",
   "mimetype": "text/x-python",
   "name": "python",
   "nbconvert_exporter": "python",
   "pygments_lexer": "ipython3",
   "version": "3.7.3"
  }
 },
 "nbformat": 4,
 "nbformat_minor": 4
}

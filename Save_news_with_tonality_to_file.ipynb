{
 "cells": [
  {
   "cell_type": "code",
   "execution_count": 1,
   "metadata": {},
   "outputs": [],
   "source": [
    "import pandas as pd\n",
    "import re\n",
    "import dateparser\n",
    "import datetime\n",
    "import numpy as np\n",
    "from collections import Counter\n",
    "from translitua import translit"
   ]
  },
  {
   "cell_type": "code",
   "execution_count": 2,
   "metadata": {},
   "outputs": [
    {
     "name": "stdout",
     "output_type": "stream",
     "text": [
      "<class 'pandas.core.frame.DataFrame'>\n",
      "Int64Index: 151053 entries, 2075213 to 2072557\n",
      "Data columns (total 18 columns):\n",
      " #   Column              Non-Null Count   Dtype  \n",
      "---  ------              --------------   -----  \n",
      " 0   title               151052 non-null  object \n",
      " 1   text                151037 non-null  object \n",
      " 2   subtitle            80390 non-null   object \n",
      " 3   link                151053 non-null  object \n",
      " 4   domain              151053 non-null  object \n",
      " 5   datetime            151053 non-null  object \n",
      " 6   views               61225 non-null   float64\n",
      " 7   created_at          151053 non-null  object \n",
      " 8   category            114894 non-null  object \n",
      " 9   language            151053 non-null  object \n",
      " 10  domain_alias        151053 non-null  object \n",
      " 11  mycategory          151053 non-null  object \n",
      " 12  found_names_str     71364 non-null   object \n",
      " 13  politician_surname  151053 non-null  bool   \n",
      " 14  mentions            33679 non-null   object \n",
      " 15  hash                151053 non-null  uint64 \n",
      " 16  sentiment           37118 non-null   float64\n",
      " 17  sent_list           37118 non-null   object \n",
      "dtypes: bool(1), float64(2), object(14), uint64(1)\n",
      "memory usage: 20.9+ MB\n"
     ]
    }
   ],
   "source": [
    "news_filepath = '../data/may.csv'\n",
    "news = pd.read_csv(news_filepath, index_col=[0])\n",
    "news.info()"
   ]
  },
  {
   "cell_type": "code",
   "execution_count": 11,
   "metadata": {},
   "outputs": [
    {
     "data": {
      "text/plain": [
       "Політика               19763\n",
       "Інциденти              18957\n",
       "Коронавірус            15138\n",
       "Закордонна політика    14403\n",
       "Економіка              14081\n",
       "Шоу-бізнес             13213\n",
       "Світ                   13173\n",
       "Суспільство            10189\n",
       "Спорт                  10159\n",
       "Війна/Донбас            8988\n",
       "Життя/lifestyle         8803\n",
       "Технології              5968\n",
       "Карантин                4894\n",
       "Погода                  2410\n",
       "Інше                     500\n",
       "Name: mycategory, dtype: int64"
      ]
     },
     "execution_count": 11,
     "metadata": {},
     "output_type": "execute_result"
    }
   ],
   "source": [
    "news.mycategory.value_counts()"
   ]
  },
  {
   "cell_type": "code",
   "execution_count": 1,
   "metadata": {},
   "outputs": [],
   "source": []
  },
  {
   "cell_type": "code",
   "execution_count": 117,
   "metadata": {},
   "outputs": [],
   "source": [
    "news['ment_tone'] = news.apply(lambda row: get_sent_tone(row.mentions, row.sent_list), axis=1)"
   ]
  },
  {
   "cell_type": "code",
   "execution_count": 18,
   "metadata": {},
   "outputs": [],
   "source": [
    "news['tone_by_words'] = news.apply(lambda row: get_tone_sum(row.mentions, row.tone_words), axis=1)"
   ]
  },
  {
   "cell_type": "code",
   "execution_count": 8,
   "metadata": {},
   "outputs": [],
   "source": [
    "def get_text_tone(tone):\n",
    "    tones = re.findall(r'-?\\d+', tone)\n",
    "    return sum([int(t) for t in tones])\n",
    "\n",
    "news['text_tone'] = news.tone_words.apply(get_text_tone)\n",
    "# news['abs_tone'] = news.text_tone.abs()\n",
    "# news['tone_words_num'] = news.tone_words.apply(lambda words: len(re.findall(r':', words)))"
   ]
  },
  {
   "cell_type": "markdown",
   "metadata": {},
   "source": [
    "### Save to file"
   ]
  },
  {
   "cell_type": "code",
   "execution_count": 6,
   "metadata": {},
   "outputs": [],
   "source": [
    "ment_num_dict = {}\n",
    "for p in politicians:\n",
    "    ment_num_dict[p] = len(news[news.mentions.str.contains(p, na=False)])\n",
    "#     print(p, ':', len(news[news.mentions.str.contains(p, na=False)]))"
   ]
  },
  {
   "cell_type": "code",
   "execution_count": 7,
   "metadata": {},
   "outputs": [],
   "source": [
    "ment_num_dict = {k:v for k,v in sorted(ment_num_dict.items(), key=lambda item: item[1], reverse=True)}"
   ]
  },
  {
   "cell_type": "code",
   "execution_count": 8,
   "metadata": {},
   "outputs": [
    {
     "name": "stdout",
     "output_type": "stream",
     "text": [
      "['Інциденти', 'Політика', 'Світ', 'Економіка', 'Закордонна політика']\n"
     ]
    }
   ],
   "source": [
    "cat_dict = {'Економіка': 'economics',\n",
    "            'Суспільство':'society',\n",
    "            'Коронавірус': 'covid',\n",
    "            'Інциденти': 'incidents',\n",
    "            'Політика': 'politics',\n",
    "            'Спорт': 'sport', \n",
    "            'Життя/lifestyle':'lifestyle',\n",
    "            'Світ':'world',\n",
    "            'Погода':'weather',\n",
    "            'Технології':'technologies',\n",
    "            'Шоу-бізнес':'showbiz',\n",
    "            'Війна/Донбас':'war',\n",
    "            'Карантин':'quarantine',\n",
    "            'Закордонна політика':'affairs',\n",
    "            'Інше':'other'}\n",
    "top_categories = list(news.mycategory.value_counts().index[:5])\n",
    "if 'Шоу-бізнес' in top_categories:\n",
    "    top_categories.remove('Шоу-бізнес')\n",
    "    top_categories.append(news.mycategory.value_counts().index[5])\n",
    "print(top_categories)\n",
    "top_str = '|'.join(top_categories)"
   ]
  },
  {
   "cell_type": "code",
   "execution_count": 9,
   "metadata": {},
   "outputs": [],
   "source": [
    "domains = list(news.domain_alias.unique())\n",
    "keywords = ['позитивні', 'нейтральні', 'негативні']\n",
    "cols=['image_name', 'name']\n",
    "for d in domains:\n",
    "    for k in keywords:\n",
    "        cols.append(':'.join([d,k]))"
   ]
  },
  {
   "cell_type": "code",
   "execution_count": 11,
   "metadata": {},
   "outputs": [],
   "source": [
    "def get_empty_df(cols=cols, top_names=top_names):\n",
    "    df = pd.DataFrame(columns=cols)\n",
    "    df['name'] = top_names\n",
    "    for n in top_names:\n",
    "        split_name = translit(n).lower().split()\n",
    "        im_name = '_'.join([split_name[0][0], split_name[1]])\n",
    "        df.loc[df['name']==n, 'image_name'] = im_name\n",
    "    return df"
   ]
  },
  {
   "cell_type": "code",
   "execution_count": 12,
   "metadata": {},
   "outputs": [],
   "source": [
    "def get_news_with_2_ments(news_part, name):\n",
    "    part = news_part[news_part.mentions.str.contains(name, na=False)].copy()\n",
    "    part = part.mentions.str.extractall(name + r'\\+(?P<num>\\d+)')\n",
    "    part['num'] = part.num.astype(int)\n",
    "    part = part.sum(level=[0])\n",
    "    part = part[part.num>1]\n",
    "    return part.index"
   ]
  },
  {
   "cell_type": "markdown",
   "metadata": {},
   "source": [
    "### Sentiment by news with 2 mentions\n",
    "\n",
    "Зберігаємо у файл на сайт кількість негативних, позитивних, нейтральних новин про політика на кожному сайті, якщо у новині він згадувався принаймні двічі"
   ]
  },
  {
   "cell_type": "code",
   "execution_count": 15,
   "metadata": {},
   "outputs": [],
   "source": [
    "month = '05'\n",
    "sentiment_column = 'sentiment'\n",
    "top_news = news[news.mycategory.isin(top_categories)]\n",
    "ment_num_dict = {}\n",
    "ind_dict = {}\n",
    "\n",
    "for p in politicians:\n",
    "    ind_dict[p] = get_news_with_2_ments(top_news, p)\n",
    "    ment_num_dict[p] = len(ind_dict[p])\n",
    "    ment_num_dict = {k:v for k,v in sorted(ment_num_dict.items(), key=lambda item: item[1], reverse=True)}\n",
    "    top_names = list(ment_num_dict.keys())[:10]\n",
    "    df = get_empty_df(cols, top_names)\n",
    "    \n",
    "for n in top_names:\n",
    "    for d in domains:\n",
    "        tones = top_news[(top_news.index.isin(ind_dict[n]))&(top_news.domain_alias==d)][sentiment_column]\n",
    "\n",
    "        df.loc[df['name']==n, ':'.join([d,keywords[0]])] = (tones>1).sum()\n",
    "        df.loc[df['name']==n, ':'.join([d,keywords[1]])] = ((tones<=1)&(tones>=-1)).sum()\n",
    "        df.loc[df['name']==n, ':'.join([d,keywords[2]])] = (tones<-1).sum()\n",
    "\n",
    "    df.to_csv('datasets/{0}/politicians_all_{0}_2021.csv'.format(month), index=False, sep=';')"
   ]
  },
  {
   "cell_type": "markdown",
   "metadata": {},
   "source": [
    "#### Те саме, тільки окремо для кожної з топ-5 категорій"
   ]
  },
  {
   "cell_type": "code",
   "execution_count": 25,
   "metadata": {},
   "outputs": [],
   "source": [
    "for cat in top_categories:\n",
    "    ment_num_dict = {}\n",
    "    ind_dict = {}\n",
    "    part = news[news.mycategory==cat]\n",
    "    \n",
    "    for p in politicians:\n",
    "        ind_dict[p] = get_news_with_2_ments(part, p)\n",
    "        ment_num_dict[p] = len(ind_dict[p])\n",
    "    ment_num_dict = {k:v for k,v in sorted(ment_num_dict.items(), key=lambda item: item[1], reverse=True)}\n",
    "    top_names = list(ment_num_dict.keys())[:10]\n",
    "    df = get_empty_df(cols, top_names)\n",
    "    for n in top_names:\n",
    "        for d in domains:\n",
    "            tones = part[(part.index.isin(ind_dict[n]))&(part.domain_alias==d)][sentiment_column]\n",
    "\n",
    "            df.loc[df['name']==n, ':'.join([d,keywords[0]])] = (tones>1).sum()\n",
    "            df.loc[df['name']==n, ':'.join([d,keywords[1]])] = ((tones<=1)&(tones>=-1)).sum()\n",
    "            df.loc[df['name']==n, ':'.join([d,keywords[2]])] = (tones<-1).sum()\n",
    "#     df['description'] = None\n",
    "#     df['description'].iloc[0] = description        \n",
    "    df.to_csv('datasets/{0}/politicians_{1}_{0}_2021.csv'.format(month, cat_dict[cat]), index=False, sep=';')"
   ]
  },
  {
   "cell_type": "markdown",
   "metadata": {},
   "source": [
    "#### Sentiment by sentences-mentions"
   ]
  },
  {
   "cell_type": "code",
   "execution_count": 278,
   "metadata": {
    "code_folding": []
   },
   "outputs": [],
   "source": [
    "top_news = news[news.mycategory.isin(top_categories)]\n",
    "\n",
    "for p in politicians:\n",
    "    ment_num_dict[p] = len(top_news[top_news.mentions.str.contains(p, na=False)])\n",
    "    ment_num_dict = {k:v for k,v in sorted(ment_num_dict.items(), key=lambda item: item[1], reverse=True)}\n",
    "    top_names = list(ment_num_dict.keys())[:10]\n",
    "    df = get_empty_df(cols, top_names)\n",
    "    \n",
    "for n in top_names:\n",
    "    for d in domains:\n",
    "        tones = top_news[(top_news.domain_alias==d)].ment_tone.str.extract(rf\"(?:{n}\\:)(-?[\\d\\.]+)\", expand=False).astype(float)\n",
    "\n",
    "        df.loc[df['name']==n, '; '.join([d,keywords[0]])] = (tones>0).sum()\n",
    "        df.loc[df['name']==n, '; '.join([d,keywords[1]])] = (tones==0).sum()\n",
    "        df.loc[df['name']==n, '; '.join([d,keywords[2]])] = (tones<0).sum()\n",
    "        \n",
    "    df.to_csv('politicians_all_03_2021.csv', index=False, sep=';')"
   ]
  },
  {
   "cell_type": "code",
   "execution_count": 279,
   "metadata": {},
   "outputs": [],
   "source": [
    "for cat in top_categories:\n",
    "    ment_num_dict = {}\n",
    "    part = news[news.mycategory==cat]\n",
    "    \n",
    "    for p in politicians:\n",
    "        ment_num_dict[p] = len(part[part.mentions.str.contains(p, na=False)])\n",
    "    ment_num_dict = {k:v for k,v in sorted(ment_num_dict.items(), key=lambda item: item[1], reverse=True)}\n",
    "    top_names = list(ment_num_dict.keys())[:10]\n",
    "    df = get_empty_df(cols, top_names)\n",
    "    for n in top_names:\n",
    "        for d in domains:\n",
    "            tones = part[(part.domain_alias==d)].ment_tone.str.extract(rf\"(?:{n}\\:)(-?[\\d\\.]+)\", expand=False).astype(float)\n",
    "\n",
    "            df.loc[df['name']==n, '; '.join([d,keywords[0]])] = (tones>0).sum()\n",
    "            df.loc[df['name']==n, '; '.join([d,keywords[1]])] = (tones==0).sum()\n",
    "            df.loc[df['name']==n, '; '.join([d,keywords[2]])] = (tones<0).sum()\n",
    "            \n",
    "    df.to_csv('politicians_'+cat_dict[cat]+'_03_2021.csv', index=False, sep=';')"
   ]
  },
  {
   "cell_type": "markdown",
   "metadata": {},
   "source": [
    "### Get sentiment of politicians mentions\n",
    "#### Old version - ignore"
   ]
  },
  {
   "cell_type": "code",
   "execution_count": null,
   "metadata": {},
   "outputs": [],
   "source": [
    "def dict_to_string(tone_dict):\n",
    "    res = []\n",
    "    for k, v in tone_dict.items():\n",
    "        res.append(':'.join([k, str(v)]))\n",
    "    return '#'.join(res)\n",
    "    \n",
    "def get_tone_sum(ment, tone):\n",
    "    if pd.notnull(ment):\n",
    "        ment = ment.split('§')\n",
    "        tone = tone.split('#')\n",
    "        tone_dict = {}\n",
    "        for s in range(len(ment)):\n",
    "            names = re.findall(r\"\\w+ \\w+\",  ment[s])\n",
    "            if ment[s]:\n",
    "                if tone[s]:\n",
    "#                     print(ment[s])\n",
    "#                     print(tone[s])\n",
    "                    tone_num = sum([int(t.split(':')[-1]) for t in tone[s].split(';')])\n",
    "                else:\n",
    "                    tone_num = 0\n",
    "                for n in names:\n",
    "                    try:\n",
    "                        tone_dict[n] += tone_num\n",
    "                    except:\n",
    "                        tone_dict[n] = tone_num\n",
    "        return dict_to_string(tone_dict)\n",
    "    return None\n",
    "\n",
    "def get_sent_tone(ment, tone):\n",
    "    if pd.notnull(ment):\n",
    "        ment = ment.split('§')\n",
    "        tone = tone.split(';')\n",
    "#         if len(ment)==len(tone):\n",
    "        tone_dict = {}\n",
    "        for s in range(len(ment)):\n",
    "            names = re.findall(r\"\\w+ \\w+\",  ment[s])\n",
    "            if ment[s]:\n",
    "                try:\n",
    "                    if tone[s]:\n",
    "                        tone_num = float(tone[s])\n",
    "                    else:\n",
    "                        tone_num = 0.0\n",
    "                except:\n",
    "                    tone_num = 0.0\n",
    "                for n in names:\n",
    "                    try:\n",
    "                        tone_dict[n] += tone_num\n",
    "                    except:\n",
    "                        tone_dict[n] = tone_num\n",
    "        return dict_to_string(tone_dict)\n",
    "    return None"
   ]
  },
  {
   "cell_type": "markdown",
   "metadata": {},
   "source": [
    "#### Get most frequent emotional words"
   ]
  },
  {
   "cell_type": "code",
   "execution_count": 181,
   "metadata": {},
   "outputs": [],
   "source": [
    "def get_top_tone_words(name, month, tone, domain=''):\n",
    "    if domain:\n",
    "        words = news[(news.domain==domain)&(news[name]>1)&(news[name+'_tone']<tone)].tone_words.str.findall(r'[\\w\\'\\-]+\\:\\-?\\d', flags=re.I)\n",
    "    else:\n",
    "        words = news[(news[name]>1)&(news.index.month==month)&(news[name+'_tone']<tone)].tone_words.str.findall(r'[\\w\\'\\-]+\\:\\-?\\d', flags=re.I)\n",
    "    \n",
    "    res = []\n",
    "    for w in words:\n",
    "        res += w\n",
    "    counted = Counter(res)\n",
    "    return {k: v for k, v in sorted(counted.items(), key=lambda item: item[1], reverse=True)}\n",
    "\n"
   ]
  }
 ],
 "metadata": {
  "kernelspec": {
   "display_name": "Python 3",
   "language": "python",
   "name": "python3"
  },
  "language_info": {
   "codemirror_mode": {
    "name": "ipython",
    "version": 3
   },
   "file_extension": ".py",
   "mimetype": "text/x-python",
   "name": "python",
   "nbconvert_exporter": "python",
   "pygments_lexer": "ipython3",
   "version": "3.7.3"
  }
 },
 "nbformat": 4,
 "nbformat_minor": 4
}
